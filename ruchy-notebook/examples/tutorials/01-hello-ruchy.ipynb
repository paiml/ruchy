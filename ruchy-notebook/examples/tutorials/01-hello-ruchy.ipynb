{
 "cells": [
  {
   "cell_type": "markdown",
   "id": "intro",
   "metadata": {},
   "source": [
    "# 🚀 Hello, Ruchy!\n",
    "\n",
    "Welcome to your first Ruchy notebook! This tutorial will introduce you to the basics of the Ruchy programming language and how to use it in an interactive notebook environment.\n",
    "\n",
    "## What is Ruchy?\n",
    "\n",
    "Ruchy is a modern programming language designed for:\n",
    "- **Interactive computing** - Perfect for data analysis, prototyping, and exploration\n",
    "- **Fast execution** - Compiled to efficient bytecode with WASM runtime\n",
    "- **Clean syntax** - Easy to read and write, inspired by Rust and Python\n",
    "- **Powerful features** - Pattern matching, functional programming, and more\n",
    "\n",
    "Let's start with your first Ruchy program!"
   ]
  },
  {
   "cell_type": "code",
   "execution_count": null,
   "id": "hello-world",
   "metadata": {},
   "outputs": [],
   "source": [
    "// Your first Ruchy program\n",
    "println(\"Hello, Ruchy!\");"
   ]
  },
  {
   "cell_type": "markdown",
   "id": "basics-explanation",
   "metadata": {},
   "source": [
    "Great! You just ran your first Ruchy program. Let's break it down:\n",
    "\n",
    "- `println()` is a built-in function that prints text to the output\n",
    "- Strings are enclosed in double quotes\n",
    "- Statements end with semicolons\n",
    "\n",
    "## Variables and Data Types\n",
    "\n",
    "Ruchy has several built-in data types. Let's explore them:"
   ]
  },
  {
   "cell_type": "code",
   "execution_count": null,
   "id": "variables",
   "metadata": {},
   "outputs": [],
   "source": [
    "// Numbers\n",
    "let age = 25;\n",
    "let pi = 3.14159;\n",
    "\n",
    "// Strings  \n",
    "let name = \"Alice\";\n",
    "let greeting = f\"Hello, {name}! You are {age} years old.\";\n",
    "\n",
    "// Booleans\n",
    "let is_learning = true;\n",
    "let is_expert = false;\n",
    "\n",
    "println(greeting);\n",
    "println(f\"Learning Ruchy: {is_learning}\");"
   ]
  },
  {
   "cell_type": "markdown",
   "id": "string-interpolation",
   "metadata": {},
   "source": [
    "Notice the `f\"...\"` syntax? That's **string interpolation** - you can embed variables directly in strings using `{variable_name}`.\n",
    "\n",
    "## Basic Operations\n",
    "\n",
    "Let's try some arithmetic and string operations:"
   ]
  },
  {
   "cell_type": "code",
   "execution_count": null,
   "id": "operations",
   "metadata": {},
   "outputs": [],
   "source": [
    "// Arithmetic\n",
    "let x = 10;\n",
    "let y = 3;\n",
    "\n",
    "println(f\"Addition: {x} + {y} = {x + y}\");\n",
    "println(f\"Subtraction: {x} - {y} = {x - y}\");\n",
    "println(f\"Multiplication: {x} * {y} = {x * y}\");\n",
    "println(f\"Division: {x} / {y} = {x / y}\");\n",
    "println(f\"Remainder: {x} % {y} = {x % y}\");"
   ]
  },
  {
   "cell_type": "code",
   "execution_count": null,
   "id": "string-operations",
   "metadata": {},
   "outputs": [],
   "source": [
    "// String operations\n",
    "let first_name = \"John\";\n",
    "let last_name = \"Doe\";\n",
    "let full_name = first_name + \" \" + last_name;\n",
    "\n",
    "println(f\"Full name: {full_name}\");\n",
    "println(f\"Length: {full_name.length()}\");\n",
    "println(f\"Uppercase: {full_name.to_upper()}\");"
   ]
  },
  {
   "cell_type": "markdown",
   "id": "arrays-intro",
   "metadata": {},
   "source": [
    "## Arrays and Collections\n",
    "\n",
    "Arrays are ordered collections of items:"
   ]
  },
  {
   "cell_type": "code",
   "execution_count": null,
   "id": "arrays",
   "metadata": {},
   "outputs": [],
   "source": [
    "// Create an array of numbers\n",
    "let numbers = [1, 2, 3, 4, 5];\n",
    "println(f\"Numbers: {numbers}\");\n",
    "println(f\"First number: {numbers[0]}\");\n",
    "println(f\"Array length: {numbers.length()}\");\n",
    "\n",
    "// Array of strings\n",
    "let fruits = [\"apple\", \"banana\", \"orange\"];\n",
    "println(f\"Fruits: {fruits}\");\n",
    "println(f\"Second fruit: {fruits[1]}\");"
   ]
  },
  {
   "cell_type": "markdown",
   "id": "objects-intro",
   "metadata": {},
   "source": [
    "## Objects\n",
    "\n",
    "Objects store key-value pairs:"
   ]
  },
  {
   "cell_type": "code",
   "execution_count": null,
   "id": "objects",
   "metadata": {},
   "outputs": [],
   "source": [
    "// Create a person object\n",
    "let person = {\n",
    "    name: \"Sarah\",\n",
    "    age: 28,\n",
    "    city: \"San Francisco\",\n",
    "    hobbies: [\"reading\", \"cycling\", \"photography\"]\n",
    "};\n",
    "\n",
    "println(f\"Person: {person}\");\n",
    "println(f\"Name: {person.name}\");\n",
    "println(f\"Age: {person.age}\");\n",
    "println(f\"Hobbies: {person.hobbies}\");"
   ]
  },
  {
   "cell_type": "markdown",
   "id": "functions-intro",
   "metadata": {},
   "source": [
    "## Functions\n",
    "\n",
    "Functions help organize and reuse code:"
   ]
  },
  {
   "cell_type": "code",
   "execution_count": null,
   "id": "functions",
   "metadata": {},
   "outputs": [],
   "source": [
    "// Define a function to calculate area of a circle\n",
    "fun circle_area(radius) {\n",
    "    let pi = 3.14159;\n",
    "    return pi * radius * radius;\n",
    "}\n",
    "\n",
    "// Use the function\n",
    "let radius = 5;\n",
    "let area = circle_area(radius);\n",
    "println(f\"Circle with radius {radius} has area {area}\");\n",
    "\n",
    "// Another example - greeting function\n",
    "fun greet(name, language = \"English\") {\n",
    "    if language == \"Spanish\" {\n",
    "        return f\"¡Hola, {name}!\";\n",
    "    } else if language == \"French\" {\n",
    "        return f\"Bonjour, {name}!\";\n",
    "    } else {\n",
    "        return f\"Hello, {name}!\";\n",
    "    }\n",
    "}\n",
    "\n",
    "println(greet(\"Alice\"));\n",
    "println(greet(\"Carlos\", \"Spanish\"));\n",
    "println(greet(\"Marie\", \"French\"));"
   ]
  },
  {
   "cell_type": "markdown",
   "id": "control-flow-intro",
   "metadata": {},
   "source": [
    "## Control Flow\n",
    "\n",
    "Control the flow of your program with conditionals and loops:"
   ]
  },
  {
   "cell_type": "code",
   "execution_count": null,
   "id": "conditionals",
   "metadata": {},
   "outputs": [],
   "source": [
    "// If-else statements\n",
    "let temperature = 22;\n",
    "\n",
    "if temperature > 30 {\n",
    "    println(\"It's hot outside!\");\n",
    "} else if temperature > 20 {\n",
    "    println(\"Nice weather!\");\n",
    "} else {\n",
    "    println(\"It's a bit chilly.\");\n",
    "}\n",
    "\n",
    "// For loops\n",
    "println(\"Counting from 1 to 5:\");\n",
    "for i in 1..6 {\n",
    "    println(f\"Count: {i}\");\n",
    "}\n",
    "\n",
    "// While loops\n",
    "println(\"Countdown:\");\n",
    "let countdown = 3;\n",
    "while countdown > 0 {\n",
    "    println(f\"{countdown}...\");\n",
    "    countdown = countdown - 1;\n",
    "}\n",
    "println(\"Blast off! 🚀\");"
   ]
  },
  {
   "cell_type": "markdown",
   "id": "pattern-matching",
   "metadata": {},
   "source": [
    "## Pattern Matching\n",
    "\n",
    "One of Ruchy's powerful features is pattern matching with `match` expressions:"
   ]
  },
  {
   "cell_type": "code",
   "execution_count": null,
   "id": "pattern-matching-example",
   "metadata": {},
   "outputs": [],
   "source": [
    "// Match with numbers\n",
    "let number = 3;\n",
    "let result = match number {\n",
    "    1 => \"one\",\n",
    "    2 => \"two\", \n",
    "    3 => \"three\",\n",
    "    4 | 5 => \"four or five\",\n",
    "    _ => \"something else\"\n",
    "};\n",
    "println(f\"The number {number} is {result}\");\n",
    "\n",
    "// Match with strings\n",
    "let day = \"Monday\";\n",
    "let mood = match day {\n",
    "    \"Monday\" => \"😴 Sleepy\",\n",
    "    \"Tuesday\" | \"Wednesday\" | \"Thursday\" => \"😐 Neutral\",\n",
    "    \"Friday\" => \"😊 Happy\",\n",
    "    \"Saturday\" | \"Sunday\" => \"🎉 Excited\",\n",
    "    _ => \"🤔 Unknown day\"\n",
    "};\n",
    "println(f\"On {day}, I feel {mood}\");"
   ]
  },
  {
   "cell_type": "markdown",
   "id": "interactive-features",
   "metadata": {},
   "source": [
    "## Interactive Features\n",
    "\n",
    "Since you're in a notebook environment, you can:\n",
    "\n",
    "1. **Run cells in any order** - Each cell maintains state\n",
    "2. **Modify and re-run** - Change code and see immediate results\n",
    "3. **Build incrementally** - Define variables in one cell, use in another\n",
    "4. **Mix code and documentation** - Combine code with markdown explanations\n",
    "\n",
    "Try modifying any of the code cells above and re-running them!"
   ]
  },
  {
   "cell_type": "code",
   "execution_count": null,
   "id": "experiment",
   "metadata": {},
   "outputs": [],
   "source": [
    "// Experiment with your own code here!\n",
    "// Try creating a function, working with arrays, or using pattern matching\n",
    "\n",
    "// Your code here..."
   ]
  },
  {
   "cell_type": "markdown",
   "id": "next-steps",
   "metadata": {},
   "source": [
    "## 🎯 Next Steps\n",
    "\n",
    "Congratulations! You've learned the basics of Ruchy. Here's what to explore next:\n",
    "\n",
    "### Tutorial Series:\n",
    "1. **Data Types & Variables** - Deep dive into Ruchy's type system\n",
    "2. **Control Flow** - Advanced conditionals, loops, and pattern matching\n",
    "3. **Functions & Closures** - Functional programming in Ruchy\n",
    "4. **Collections & Data Structures** - Working with arrays, objects, and more\n",
    "\n",
    "### Feature Demonstrations:\n",
    "- **DataFrame Operations** - Data analysis and manipulation\n",
    "- **String Processing** - Text analysis and regular expressions\n",
    "- **Mathematical Computing** - Statistical functions and algorithms\n",
    "\n",
    "### Real-world Examples:\n",
    "- **Data Analysis Workflow** - Complete data science project\n",
    "- **Algorithm Implementations** - Classic computer science problems\n",
    "- **Web API Integration** - Working with external data sources\n",
    "\n",
    "## 📚 Resources\n",
    "\n",
    "- **User Guide** - Complete reference for notebook features\n",
    "- **Developer Guide** - API documentation and integration examples\n",
    "- **Language Specification** - Detailed syntax and semantics\n",
    "- **Community** - Join other Ruchy developers and share projects\n",
    "\n",
    "Happy coding with Ruchy! 🦀✨"
   ]
  }
 ],
 "metadata": {
  "kernelspec": {
   "display_name": "Ruchy",
   "language": "ruchy",
   "name": "ruchy"
  },
  "language_info": {
   "file_extension": ".ruchy",
   "mimetype": "text/x-ruchy",
   "name": "ruchy",
   "version": "1.90.0"
  }
 },
 "nbformat": 4,
 "nbformat_minor": 5
}